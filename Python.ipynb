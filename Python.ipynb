{
 "cells": [
  {
   "cell_type": "code",
   "execution_count": null,
   "id": "a51a2561",
   "metadata": {},
   "outputs": [],
   "source": [
    "Python Introduction"
   ]
  },
  {
   "cell_type": "code",
   "execution_count": null,
   "id": "3a25f1e6",
   "metadata": {},
   "outputs": [],
   "source": [
    "What is Python?\n",
    "\n",
    "Python is a popular programming language. It was created by Guido van Rossum, and released in 1991.\n",
    "\n",
    "It is used for:\n",
    "\n",
    "web development (server-side),\n",
    "software development,\n",
    "mathematics,\n",
    "system scripting."
   ]
  },
  {
   "cell_type": "code",
   "execution_count": null,
   "id": "199a5d31",
   "metadata": {},
   "outputs": [],
   "source": [
    "What can Python do?\n",
    "\n",
    "Python can be used on a server to create web applications.\n",
    "Python can be used alongside software to create workflows.\n",
    "Python can connect to database systems. It can also read and modify files.\n",
    "Python can be used to handle big data and perform complex mathematics.\n",
    "Python can be used for rapid prototyping, or for production-ready software development."
   ]
  },
  {
   "cell_type": "code",
   "execution_count": null,
   "id": "cea2272d",
   "metadata": {},
   "outputs": [],
   "source": [
    "Why Python?\n",
    "\n",
    "Python works on different platforms (Windows, Mac, Linux, Raspberry Pi, etc).\n",
    "Python has a simple syntax similar to the English language.\n",
    "Python has syntax that allows developers to write programs with fewer lines than some other programming languages.\n",
    "Python runs on an interpreter system, meaning that code can be executed as soon as it is written. This means that prototyping can be very quick.\n",
    "Python can be treated in a procedural way, an object-oriented way or a functional way."
   ]
  },
  {
   "cell_type": "code",
   "execution_count": null,
   "id": "02f7098c",
   "metadata": {},
   "outputs": [],
   "source": [
    "Python Syntax compared to other programming languages\n",
    "\n",
    "Python was designed for readability, and has some similarities to the English language with influence from mathematics.\n",
    "\n",
    "Python uses new lines to complete a command, as opposed to other programming languages which often use semicolons or parentheses.\n",
    "\n",
    "Python relies on indentation, using whitespace, to define scope; such as the scope of loops, functions and classes. \n",
    "Other programming languages often use curly-brackets for this purpose."
   ]
  },
  {
   "cell_type": "code",
   "execution_count": null,
   "id": "0e812246",
   "metadata": {},
   "outputs": [],
   "source": [
    "Good to know\n",
    "\n",
    "The most recent major version of Python is Python 3, which we shall be using in this tutorial. \n",
    "However, Python 2, although not being updated with anything other than security updates, is still quite popular.\n",
    "\n",
    "In this tutorial Python will be written in a text editor. \n",
    "It is possible to write Python in an Integrated Development Environment, \n",
    "such as Thonny, Pycharm, Netbeans or Eclipse which are particularly useful when managing larger collections of Python files."
   ]
  },
  {
   "cell_type": "code",
   "execution_count": null,
   "id": "4d37a9a0",
   "metadata": {},
   "outputs": [],
   "source": [
    "Python Variables\n",
    "\n",
    "variables are created when you assign a value"
   ]
  },
  {
   "cell_type": "code",
   "execution_count": 1,
   "id": "17f92efd",
   "metadata": {},
   "outputs": [
    {
     "name": "stdout",
     "output_type": "stream",
     "text": [
      "5\n",
      "Hello, World!\n"
     ]
    }
   ],
   "source": [
    "x = 5\n",
    "y = \"Hello, World!\"\n",
    "\n",
    "print(x)\n",
    "print(y)\n"
   ]
  },
  {
   "cell_type": "code",
   "execution_count": 2,
   "id": "75197da9",
   "metadata": {},
   "outputs": [
    {
     "name": "stdout",
     "output_type": "stream",
     "text": [
      "Hello, World!\n"
     ]
    }
   ],
   "source": [
    "print(\"Hello, World!\")"
   ]
  },
  {
   "cell_type": "code",
   "execution_count": null,
   "id": "020c2615",
   "metadata": {},
   "outputs": [],
   "source": [
    "Python Comments\n",
    "\n",
    "Comments can be used to explain Python code.\n",
    "\n",
    "Comments can be used to make the code more readable.\n",
    "\n",
    "Comments can be used to prevent execution when testing code."
   ]
  },
  {
   "cell_type": "code",
   "execution_count": null,
   "id": "e8ffb3c5",
   "metadata": {},
   "outputs": [],
   "source": [
    "Creating a Comment\n",
    "\n",
    "Comments starts with a #"
   ]
  },
  {
   "cell_type": "code",
   "execution_count": 3,
   "id": "e870725f",
   "metadata": {},
   "outputs": [
    {
     "name": "stdout",
     "output_type": "stream",
     "text": [
      "Hello, World!\n"
     ]
    }
   ],
   "source": [
    "#This is a comment.\n",
    "print(\"Hello, World!\")"
   ]
  },
  {
   "cell_type": "code",
   "execution_count": 4,
   "id": "e7fd0be6",
   "metadata": {},
   "outputs": [
    {
     "name": "stdout",
     "output_type": "stream",
     "text": [
      "Hello, World!\n"
     ]
    }
   ],
   "source": [
    "\"\"\"\n",
    "This is a comment\n",
    "written in\n",
    "more than just one line\n",
    "\"\"\"\n",
    "print(\"Hello, World!\") "
   ]
  }
 ],
 "metadata": {
  "kernelspec": {
   "display_name": "Python 3 (ipykernel)",
   "language": "python",
   "name": "python3"
  },
  "language_info": {
   "codemirror_mode": {
    "name": "ipython",
    "version": 3
   },
   "file_extension": ".py",
   "mimetype": "text/x-python",
   "name": "python",
   "nbconvert_exporter": "python",
   "pygments_lexer": "ipython3",
   "version": "3.9.12"
  }
 },
 "nbformat": 4,
 "nbformat_minor": 5
}
